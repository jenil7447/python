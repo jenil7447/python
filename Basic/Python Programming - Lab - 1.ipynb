{
 "cells": [
  {
   "cell_type": "markdown",
   "metadata": {},
   "source": [
    "<!DOCTYPE html>\n",
    "<html lang=\"en\">\n",
    "<head>\n",
    "    <meta charset=\"UTF-8\">\n",
    "    <meta name=\"viewport\" content=\"width=device-width, initial-scale=1.0\">\n",
    "    <title>Python Programming - Lab 1</title>\n",
    "    <style>\n",
    "        body {\n",
    "            font-family: Arial, sans-serif;\n",
    "            background-color: #f4f4f9;\n",
    "            color: #333;\n",
    "            margin: 0;\n",
    "            padding: 0;\n",
    "            display: flex;\n",
    "            justify-content: center;\n",
    "            align-items: center;\n",
    "            height: 100vh;\n",
    "            flex-direction: column;\n",
    "        }\n",
    "        .header {\n",
    "            text-align: center;\n",
    "            margin-bottom: 20px;\n",
    "        }\n",
    "        .header h1 {\n",
    "            font-size: 2.5em;\n",
    "            color: #2c3e50;\n",
    "            margin: 0;\n",
    "        }\n",
    "        .header h2 {\n",
    "            font-size: 1.5em;\n",
    "            color: #34495e;\n",
    "            margin: 0;\n",
    "        }\n",
    "        .logo {\n",
    "            margin-bottom: 20px;\n",
    "        }\n",
    "        .name {\n",
    "            font-size: 1.8em;\n",
    "            color: #e74c3c;\n",
    "            font-weight: bold;\n",
    "            margin-top: 20px;\n",
    "        }\n",
    "        .footer {\n",
    "            margin-top: 30px;\n",
    "            font-size: 0.9em;\n",
    "            color: #7f8c8d;\n",
    "        }\n",
    "    </style>\n",
    "</head>\n",
    "<body>\n",
    "    <div class=\"logo\">\n",
    "        <a href='https://www.darshan.ac.in/'>\n",
    "            <img src='https://www.darshan.ac.in/Content/media/DU_Logo.svg' width=\"250\" alt=\"Darshan University Logo\">\n",
    "        </a>\n",
    "    </div>\n",
    "    <div class=\"header\">\n",
    "        <h1>Python Programming - 2301CS404</h1>\n",
    "        <h2>Lab - 1</h2>\n",
    "    </div>\n",
    "    <div class=\"name\">\n",
    "        JENIL JETHVA\n",
    "    </div>\n",
    "    <div class=\"footer\">\n",
    "        &copy; 2023 Darshan University. All rights reserved.\n",
    "    </div>\n",
    "</body>\n",
    "</html>"
   ]
  },
  {
   "cell_type": "markdown",
   "metadata": {},
   "source": [
    "### 01) WAP to print “Hello World”"
   ]
  },
  {
   "cell_type": "code",
   "execution_count": 10,
   "metadata": {},
   "outputs": [
    {
     "name": "stdout",
     "output_type": "stream",
     "text": [
      "HELLO WORLD\n"
     ]
    }
   ],
   "source": [
    "print('HELLO WORLD')"
   ]
  },
  {
   "cell_type": "markdown",
   "metadata": {},
   "source": [
    "### 02) WAP to print addition of two numbers with and without using input()."
   ]
  },
  {
   "cell_type": "code",
   "execution_count": 5,
   "metadata": {},
   "outputs": [
    {
     "name": "stdin",
     "output_type": "stream",
     "text": [
      "Enter num1 2\n",
      "Enter num2 2\n"
     ]
    },
    {
     "name": "stdout",
     "output_type": "stream",
     "text": [
      "Addition will be : 4\n"
     ]
    }
   ],
   "source": [
    "num1 = int(input(\"Enter num1\"));\n",
    "num2 = int(input(\"Enter num2\"));\n",
    "Addition = num1 + num2;\n",
    "print(\"Addition will be :\",Addition);"
   ]
  },
  {
   "cell_type": "code",
   "execution_count": 14,
   "metadata": {},
   "outputs": [
    {
     "name": "stdout",
     "output_type": "stream",
     "text": [
      "Addition will be : 5\n"
     ]
    }
   ],
   "source": [
    "print(\"Addition will be :\" , 2+3)"
   ]
  },
  {
   "cell_type": "markdown",
   "metadata": {},
   "source": [
    "### 03) WAP to check the type of the variable."
   ]
  },
  {
   "cell_type": "code",
   "execution_count": 16,
   "metadata": {},
   "outputs": [
    {
     "name": "stdout",
     "output_type": "stream",
     "text": [
      "Type of var1: <class 'int'>\n",
      "Type of var2: <class 'float'>\n",
      "Type of var3: <class 'str'>\n",
      "Type of var4: <class 'list'>\n",
      "Type of var5: <class 'tuple'>\n",
      "Type of var6: <class 'set'>\n",
      "Type of var7: <class 'dict'>\n"
     ]
    }
   ],
   "source": [
    "var1 = 10          # Integer\n",
    "var2 = 3.14        # Float\n",
    "var3 = \"Hello\"     # String\n",
    "var4 = [1, 2, 3]   # List\n",
    "var5 = (1, 2, 3)   # Tuple\n",
    "var6 = {1, 2, 3}   # Set\n",
    "var7 = {\"a\": 1}    # Dictionary\n",
    "print(\"Type of var1:\", type(var1))\n",
    "print(\"Type of var2:\", type(var2))\n",
    "print(\"Type of var3:\", type(var3))\n",
    "print(\"Type of var4:\", type(var4))\n",
    "print(\"Type of var5:\", type(var5))\n",
    "print(\"Type of var6:\", type(var6))\n",
    "print(\"Type of var7:\", type(var7))\n",
    " \n"
   ]
  },
  {
   "cell_type": "markdown",
   "metadata": {},
   "source": [
    "### 04) WAP to calculate simple interest."
   ]
  },
  {
   "cell_type": "code",
   "execution_count": 13,
   "metadata": {},
   "outputs": [
    {
     "name": "stdin",
     "output_type": "stream",
     "text": [
      "Enter the principal amount:  1000\n",
      "Enter the rate of interest (in %):  5\n",
      "Enter the time (in years):  2\n"
     ]
    },
    {
     "name": "stdout",
     "output_type": "stream",
     "text": [
      "Simple Interest = 100.0\n"
     ]
    }
   ],
   "source": [
    "principal = float(input(\"Enter the principal amount: \"))\n",
    "rate = float(input(\"Enter the rate of interest (in %): \"))\n",
    "time = float(input(\"Enter the time (in years): \"))\n",
    "\n",
    "simple_interest = (principal * rate * time) / 100\n",
    "\n",
    "print(f\"Simple Interest = {simple_interest}\")\n"
   ]
  },
  {
   "cell_type": "code",
   "execution_count": null,
   "metadata": {},
   "outputs": [],
   "source": []
  },
  {
   "cell_type": "markdown",
   "metadata": {},
   "source": [
    "### 05) WAP to calculate area and perimeter of a circle."
   ]
  },
  {
   "cell_type": "code",
   "execution_count": 15,
   "metadata": {},
   "outputs": [
    {
     "name": "stdin",
     "output_type": "stream",
     "text": [
      "Enter the radius of the circle:  4\n"
     ]
    },
    {
     "name": "stdout",
     "output_type": "stream",
     "text": [
      "Area of the circle = 50.27\n",
      "Perimeter (Circumference) of the circle = 25.13\n"
     ]
    }
   ],
   "source": [
    "import math\n",
    "\n",
    "radius = float(input(\"Enter the radius of the circle: \"))\n",
    "\n",
    "area = math.pi * radius ** 2\n",
    "perimeter = 2 * math.pi * radius\n",
    "\n",
    "\n",
    "print(f\"Area of the circle = {area:.2f}\")\n",
    "print(f\"Perimeter (Circumference) of the circle = {perimeter:.2f}\")\n"
   ]
  },
  {
   "cell_type": "markdown",
   "metadata": {},
   "source": [
    "### 06) WAP to calculate area of a triangle."
   ]
  },
  {
   "cell_type": "code",
   "execution_count": 17,
   "metadata": {},
   "outputs": [
    {
     "name": "stdin",
     "output_type": "stream",
     "text": [
      "Enter the base of the triangle:  3\n",
      "Enter the height of the triangle:  4\n"
     ]
    },
    {
     "name": "stdout",
     "output_type": "stream",
     "text": [
      "Area of the triangle = 6.00\n"
     ]
    }
   ],
   "source": [
    "base = float(input(\"Enter the base of the triangle: \"))\n",
    "height = float(input(\"Enter the height of the triangle: \"))\n",
    "\n",
    "area = 0.5 * base * height\n",
    "\n",
    "print(f\"Area of the triangle = {area:.2f}\")\n"
   ]
  },
  {
   "cell_type": "markdown",
   "metadata": {},
   "source": [
    "### 07) WAP to compute quotient and remainder."
   ]
  },
  {
   "cell_type": "code",
   "execution_count": null,
   "metadata": {},
   "outputs": [],
   "source": [
    "dividend = int(input(\"Enter the dividend: \"))\n",
    "divisor = int(input(\"Enter the divisor: \"))\n",
    "\n",
    "quotient = dividend // divisor\n",
    "remainder = dividend % divisor\n",
    "\n",
    "print(f\"Quotient = {quotient}\")\n",
    "print(f\"Remainder = {remainder}\")\n"
   ]
  },
  {
   "cell_type": "markdown",
   "metadata": {},
   "source": [
    "### 08) WAP to convert degree into Fahrenheit and vice versa."
   ]
  },
  {
   "cell_type": "code",
   "execution_count": 19,
   "metadata": {},
   "outputs": [
    {
     "name": "stdin",
     "output_type": "stream",
     "text": [
      "Enter temperature in Celsius:  25\n"
     ]
    },
    {
     "name": "stdout",
     "output_type": "stream",
     "text": [
      "25.0°C is equal to 77.00°F\n"
     ]
    }
   ],
   "source": [
    "celsius = float(input(\"Enter temperature in Celsius: \"))\n",
    "fahrenheit = (celsius * 9/5) + 32\n",
    "\n",
    "print(f\"{celsius}°C is equal to {fahrenheit:.2f}°F\")\n"
   ]
  },
  {
   "cell_type": "markdown",
   "metadata": {},
   "source": [
    "### 09) WAP to find the distance between two points in 2-D space."
   ]
  },
  {
   "cell_type": "code",
   "execution_count": 21,
   "metadata": {},
   "outputs": [
    {
     "name": "stdin",
     "output_type": "stream",
     "text": [
      "Enter the x-coordinate of the first point:  2\n",
      "Enter the y-coordinate of the first point:  2\n",
      "Enter the x-coordinate of the second point:  1\n",
      "Enter the y-coordinate of the second point:  1\n"
     ]
    },
    {
     "name": "stdout",
     "output_type": "stream",
     "text": [
      "The distance between the points (2.0, 2.0) and (1.0, 1.0) is 1.41\n"
     ]
    }
   ],
   "source": [
    "import math\n",
    "\n",
    "x1 = float(input(\"Enter the x-coordinate of the first point: \"))\n",
    "y1 = float(input(\"Enter the y-coordinate of the first point: \"))\n",
    "\n",
    "x2 = float(input(\"Enter the x-coordinate of the second point: \"))\n",
    "y2 = float(input(\"Enter the y-coordinate of the second point: \"))\n",
    "\n",
    "distance = math.sqrt((x2 - x1)**2 + (y2 - y1)**2)\n",
    "\n",
    "print(f\"The distance between the points ({x1}, {y1}) and ({x2}, {y2}) is {distance:.2f}\")\n"
   ]
  },
  {
   "cell_type": "markdown",
   "metadata": {},
   "source": [
    "### 10) WAP to print sum of n natural numbers."
   ]
  },
  {
   "cell_type": "code",
   "execution_count": 30,
   "metadata": {},
   "outputs": [
    {
     "name": "stdin",
     "output_type": "stream",
     "text": [
      "Enter a positive integer:  3\n"
     ]
    },
    {
     "name": "stdout",
     "output_type": "stream",
     "text": [
      "sum of first  3  natural numbers is =  9\n"
     ]
    }
   ],
   "source": [
    "n = int(input(\"Enter a positive integer: \"))\n",
    "total = 0\n",
    "for i in range(1,n+1):\n",
    "    total += n\n",
    "print('sum of first ',n,' natural numbers is = ',total)"
   ]
  },
  {
   "cell_type": "markdown",
   "metadata": {},
   "source": [
    "### 11) WAP to print sum of square of n natural numbers."
   ]
  },
  {
   "cell_type": "code",
   "execution_count": 24,
   "metadata": {},
   "outputs": [
    {
     "name": "stdin",
     "output_type": "stream",
     "text": [
      "Enter number :  3\n"
     ]
    },
    {
     "name": "stdout",
     "output_type": "stream",
     "text": [
      "Sum of square of first 3 natural numbers is: 14\n"
     ]
    }
   ],
   "source": [
    "n = int(input(\"Enter number : \"))\n",
    "total = 0\n",
    "for i in range (1,n+1):\n",
    "    total += pow(i,2)\n",
    "print('Sum of square of first', n, 'natural numbers is:', total)"
   ]
  },
  {
   "cell_type": "code",
   "execution_count": 25,
   "metadata": {},
   "outputs": [
    {
     "name": "stdin",
     "output_type": "stream",
     "text": [
      "Enter a positive integer:  3\n"
     ]
    },
    {
     "name": "stdout",
     "output_type": "stream",
     "text": [
      "The sum of squares of the first 3 natural numbers is 14\n"
     ]
    }
   ],
   "source": [
    "n = int(input(\"Enter a positive integer: \"))\n",
    "\n",
    "if n > 0:\n",
    "    sum_of_squares = n * (n + 1) * (2 * n + 1) // 6  \n",
    "    print(f\"The sum of squares of the first {n} natural numbers is {sum_of_squares}\")\n",
    "else:\n",
    "    print(\"Please enter a positive integer.\")\n"
   ]
  },
  {
   "cell_type": "markdown",
   "metadata": {},
   "source": [
    "### 12) WAP to concate the first and last name of the student."
   ]
  },
  {
   "cell_type": "code",
   "execution_count": 27,
   "metadata": {},
   "outputs": [
    {
     "name": "stdin",
     "output_type": "stream",
     "text": [
      "Enter the first name:  jenil\n",
      "Enter the last name:  jethva\n"
     ]
    },
    {
     "name": "stdout",
     "output_type": "stream",
     "text": [
      "The full name of the student is: jenil jethva\n"
     ]
    }
   ],
   "source": [
    "first_name = input(\"Enter the first name: \")\n",
    "last_name = input(\"Enter the last name: \")\n",
    "\n",
    "full_name = first_name + \" \" + last_name\n",
    "\n",
    "print(f\"The full name of the student is: {full_name}\")\n"
   ]
  },
  {
   "cell_type": "markdown",
   "metadata": {},
   "source": [
    "### 13) WAP to swap two numbers."
   ]
  },
  {
   "cell_type": "code",
   "execution_count": 29,
   "metadata": {},
   "outputs": [
    {
     "name": "stdin",
     "output_type": "stream",
     "text": [
      "Enter the first number:  1\n",
      "Enter the second number:  2\n"
     ]
    },
    {
     "name": "stdout",
     "output_type": "stream",
     "text": [
      "After swapping: First number = 2.0, Second number = 1.0\n"
     ]
    }
   ],
   "source": [
    "num1 = float(input(\"Enter the first number: \"))\n",
    "num2 = float(input(\"Enter the second number: \"))\n",
    "\n",
    "temp = num1\n",
    "num1 = num2\n",
    "num2 = temp\n",
    "\n",
    "print(f\"After swapping: First number = {num1}, Second number = {num2}\")\n"
   ]
  },
  {
   "cell_type": "code",
   "execution_count": 31,
   "metadata": {},
   "outputs": [
    {
     "name": "stdin",
     "output_type": "stream",
     "text": [
      "Enter the first number:  1\n",
      "Enter the second number:  2\n"
     ]
    },
    {
     "name": "stdout",
     "output_type": "stream",
     "text": [
      "After swapping: First number = 2.0, Second number = 1.0\n"
     ]
    }
   ],
   "source": [
    "num1 = float(input(\"Enter the first number: \"))\n",
    "num2 = float(input(\"Enter the second number: \"))\n",
    "\n",
    "num1, num2 = num2, num1\n",
    "\n",
    "print(f\"After swapping: First number = {num1}, Second number = {num2}\")\n"
   ]
  },
  {
   "cell_type": "markdown",
   "metadata": {},
   "source": [
    "### 14) WAP to get the distance from user into kilometer, and convert it into meter, feet, inches and centimeter."
   ]
  },
  {
   "cell_type": "code",
   "execution_count": 33,
   "metadata": {},
   "outputs": [
    {
     "name": "stdin",
     "output_type": "stream",
     "text": [
      "Enter the distance in kilometers:  3000\n"
     ]
    },
    {
     "name": "stdout",
     "output_type": "stream",
     "text": [
      "3000.0 kilometers is equal to:\n",
      "3000000.0 meters\n",
      "9842520.0 feet\n",
      "118110300.0 inches\n",
      "300000000.0 centimeters\n"
     ]
    }
   ],
   "source": [
    "kilometers = float(input(\"Enter the distance in kilometers: \"))\n",
    "\n",
    "meters = kilometers * 1000\n",
    "feet = kilometers * 3280.84\n",
    "inches = kilometers * 39370.1\n",
    "centimeters = kilometers * 100000\n",
    "\n",
    "print(f\"{kilometers} kilometers is equal to:\")\n",
    "print(f\"{meters} meters\")\n",
    "print(f\"{feet} feet\")\n",
    "print(f\"{inches} inches\")\n",
    "print(f\"{centimeters} centimeters\")\n"
   ]
  },
  {
   "cell_type": "markdown",
   "metadata": {},
   "source": [
    "### 15) WAP to get day, month and year from the user and print the date in the given format: 23-11-2024."
   ]
  },
  {
   "cell_type": "code",
   "execution_count": 35,
   "metadata": {},
   "outputs": [
    {
     "name": "stdin",
     "output_type": "stream",
     "text": [
      "Enter the day:  19\n",
      "Enter the month:  08\n",
      "Enter the year:  2005\n"
     ]
    },
    {
     "name": "stdout",
     "output_type": "stream",
     "text": [
      "19-08-2005\n"
     ]
    }
   ],
   "source": [
    "day = int(input(\"Enter the day: \"))\n",
    "month = int(input(\"Enter the month: \"))\n",
    "year = int(input(\"Enter the year: \"))\n",
    "\n",
    "print(f\"{day:02d}-{month:02d}-{year}\")\n"
   ]
  },
  {
   "cell_type": "code",
   "execution_count": 20,
   "metadata": {},
   "outputs": [
    {
     "name": "stdin",
     "output_type": "stream",
     "text": [
      "Enter day:  12\n",
      "Enter month:  12\n",
      "Enter yaer:  12\n"
     ]
    },
    {
     "name": "stdout",
     "output_type": "stream",
     "text": [
      "12-12-12\n"
     ]
    }
   ],
   "source": [
    "day = int(input('Enter day: '))\n",
    "month = int(input('Enter month: '))\n",
    "year = int(input('Enter yaer: '))\n",
    "print(day, month, year, sep='-')"
   ]
  }
 ],
 "metadata": {
  "kernelspec": {
   "display_name": "Python 3 (ipykernel)",
   "language": "python",
   "name": "python3"
  },
  "language_info": {
   "codemirror_mode": {
    "name": "ipython",
    "version": 3
   },
   "file_extension": ".py",
   "mimetype": "text/x-python",
   "name": "python",
   "nbconvert_exporter": "python",
   "pygments_lexer": "ipython3",
   "version": "3.12.7"
  },
  "vscode": {
   "interpreter": {
    "hash": "31f2aee4e71d21fbe5cf8b01ff0e069b9275f58929596ceb00d14d90e3e16cd6"
   }
  }
 },
 "nbformat": 4,
 "nbformat_minor": 4
}
